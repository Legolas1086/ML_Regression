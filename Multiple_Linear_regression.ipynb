{
 "cells": [
  {
   "cell_type": "code",
   "execution_count": 1,
   "metadata": {},
   "outputs": [],
   "source": [
    "import numpy as np \n",
    "import pandas as pd \n",
    "import matplotlib.pyplot as plt "
   ]
  },
  {
   "cell_type": "markdown",
   "metadata": {},
   "source": [
    "Importing data"
   ]
  },
  {
   "cell_type": "code",
   "execution_count": 2,
   "metadata": {},
   "outputs": [
    {
     "output_type": "execute_result",
     "data": {
      "text/plain": "   R&D Spend  Administration  Marketing Spend       State     Profit\n0  165349.20       136897.80        471784.10    New York  192261.83\n1  162597.70       151377.59        443898.53  California  191792.06\n2  153441.51       101145.55        407934.54     Florida  191050.39\n3  144372.41       118671.85        383199.62    New York  182901.99\n4  142107.34        91391.77        366168.42     Florida  166187.94",
      "text/html": "<div>\n<style scoped>\n    .dataframe tbody tr th:only-of-type {\n        vertical-align: middle;\n    }\n\n    .dataframe tbody tr th {\n        vertical-align: top;\n    }\n\n    .dataframe thead th {\n        text-align: right;\n    }\n</style>\n<table border=\"1\" class=\"dataframe\">\n  <thead>\n    <tr style=\"text-align: right;\">\n      <th></th>\n      <th>R&amp;D Spend</th>\n      <th>Administration</th>\n      <th>Marketing Spend</th>\n      <th>State</th>\n      <th>Profit</th>\n    </tr>\n  </thead>\n  <tbody>\n    <tr>\n      <th>0</th>\n      <td>165349.20</td>\n      <td>136897.80</td>\n      <td>471784.10</td>\n      <td>New York</td>\n      <td>192261.83</td>\n    </tr>\n    <tr>\n      <th>1</th>\n      <td>162597.70</td>\n      <td>151377.59</td>\n      <td>443898.53</td>\n      <td>California</td>\n      <td>191792.06</td>\n    </tr>\n    <tr>\n      <th>2</th>\n      <td>153441.51</td>\n      <td>101145.55</td>\n      <td>407934.54</td>\n      <td>Florida</td>\n      <td>191050.39</td>\n    </tr>\n    <tr>\n      <th>3</th>\n      <td>144372.41</td>\n      <td>118671.85</td>\n      <td>383199.62</td>\n      <td>New York</td>\n      <td>182901.99</td>\n    </tr>\n    <tr>\n      <th>4</th>\n      <td>142107.34</td>\n      <td>91391.77</td>\n      <td>366168.42</td>\n      <td>Florida</td>\n      <td>166187.94</td>\n    </tr>\n  </tbody>\n</table>\n</div>"
     },
     "metadata": {},
     "execution_count": 2
    }
   ],
   "source": [
    "data=pd.read_csv('50_Startups.csv')\n",
    "data.head()"
   ]
  },
  {
   "cell_type": "markdown",
   "metadata": {},
   "source": [
    "Examining the data"
   ]
  },
  {
   "cell_type": "code",
   "execution_count": 3,
   "metadata": {},
   "outputs": [
    {
     "output_type": "execute_result",
     "data": {
      "text/plain": "           R&D Spend  Administration  Marketing Spend         Profit\ncount      50.000000       50.000000        50.000000      50.000000\nmean    73721.615600   121344.639600    211025.097800  112012.639200\nstd     45902.256482    28017.802755    122290.310726   40306.180338\nmin         0.000000    51283.140000         0.000000   14681.400000\n25%     39936.370000   103730.875000    129300.132500   90138.902500\n50%     73051.080000   122699.795000    212716.240000  107978.190000\n75%    101602.800000   144842.180000    299469.085000  139765.977500\nmax    165349.200000   182645.560000    471784.100000  192261.830000",
      "text/html": "<div>\n<style scoped>\n    .dataframe tbody tr th:only-of-type {\n        vertical-align: middle;\n    }\n\n    .dataframe tbody tr th {\n        vertical-align: top;\n    }\n\n    .dataframe thead th {\n        text-align: right;\n    }\n</style>\n<table border=\"1\" class=\"dataframe\">\n  <thead>\n    <tr style=\"text-align: right;\">\n      <th></th>\n      <th>R&amp;D Spend</th>\n      <th>Administration</th>\n      <th>Marketing Spend</th>\n      <th>Profit</th>\n    </tr>\n  </thead>\n  <tbody>\n    <tr>\n      <th>count</th>\n      <td>50.000000</td>\n      <td>50.000000</td>\n      <td>50.000000</td>\n      <td>50.000000</td>\n    </tr>\n    <tr>\n      <th>mean</th>\n      <td>73721.615600</td>\n      <td>121344.639600</td>\n      <td>211025.097800</td>\n      <td>112012.639200</td>\n    </tr>\n    <tr>\n      <th>std</th>\n      <td>45902.256482</td>\n      <td>28017.802755</td>\n      <td>122290.310726</td>\n      <td>40306.180338</td>\n    </tr>\n    <tr>\n      <th>min</th>\n      <td>0.000000</td>\n      <td>51283.140000</td>\n      <td>0.000000</td>\n      <td>14681.400000</td>\n    </tr>\n    <tr>\n      <th>25%</th>\n      <td>39936.370000</td>\n      <td>103730.875000</td>\n      <td>129300.132500</td>\n      <td>90138.902500</td>\n    </tr>\n    <tr>\n      <th>50%</th>\n      <td>73051.080000</td>\n      <td>122699.795000</td>\n      <td>212716.240000</td>\n      <td>107978.190000</td>\n    </tr>\n    <tr>\n      <th>75%</th>\n      <td>101602.800000</td>\n      <td>144842.180000</td>\n      <td>299469.085000</td>\n      <td>139765.977500</td>\n    </tr>\n    <tr>\n      <th>max</th>\n      <td>165349.200000</td>\n      <td>182645.560000</td>\n      <td>471784.100000</td>\n      <td>192261.830000</td>\n    </tr>\n  </tbody>\n</table>\n</div>"
     },
     "metadata": {},
     "execution_count": 3
    }
   ],
   "source": [
    "data.describe()"
   ]
  },
  {
   "cell_type": "code",
   "execution_count": 4,
   "metadata": {
    "tags": []
   },
   "outputs": [
    {
     "output_type": "stream",
     "name": "stdout",
     "text": "<class 'pandas.core.frame.DataFrame'>\nRangeIndex: 50 entries, 0 to 49\nData columns (total 5 columns):\n #   Column           Non-Null Count  Dtype  \n---  ------           --------------  -----  \n 0   R&D Spend        50 non-null     float64\n 1   Administration   50 non-null     float64\n 2   Marketing Spend  50 non-null     float64\n 3   State            50 non-null     object \n 4   Profit           50 non-null     float64\ndtypes: float64(4), object(1)\nmemory usage: 2.1+ KB\n"
    }
   ],
   "source": [
    "data.info()"
   ]
  },
  {
   "cell_type": "markdown",
   "metadata": {},
   "source": [
    "Checking for null values"
   ]
  },
  {
   "cell_type": "code",
   "execution_count": 5,
   "metadata": {},
   "outputs": [
    {
     "output_type": "execute_result",
     "data": {
      "text/plain": "R&D Spend          0\nAdministration     0\nMarketing Spend    0\nState              0\nProfit             0\ndtype: int64"
     },
     "metadata": {},
     "execution_count": 5
    }
   ],
   "source": [
    "data.isnull().sum()"
   ]
  },
  {
   "cell_type": "code",
   "execution_count": 40,
   "metadata": {},
   "outputs": [],
   "source": [
    "x=data.iloc[:,:-1].values\n",
    "y=data.iloc[:,-1].values"
   ]
  },
  {
   "cell_type": "markdown",
   "metadata": {},
   "source": [
    "Encoding categorical values"
   ]
  },
  {
   "cell_type": "code",
   "execution_count": 41,
   "metadata": {
    "tags": []
   },
   "outputs": [
    {
     "output_type": "stream",
     "name": "stdout",
     "text": "[[0.0 0.0 1.0 165349.2 136897.8 471784.1]\n [1.0 0.0 0.0 162597.7 151377.59 443898.53]\n [0.0 1.0 0.0 153441.51 101145.55 407934.54]\n [0.0 0.0 1.0 144372.41 118671.85 383199.62]\n [0.0 1.0 0.0 142107.34 91391.77 366168.42]\n [0.0 0.0 1.0 131876.9 99814.71 362861.36]\n [1.0 0.0 0.0 134615.46 147198.87 127716.82]\n [0.0 1.0 0.0 130298.13 145530.06 323876.68]\n [0.0 0.0 1.0 120542.52 148718.95 311613.29]\n [1.0 0.0 0.0 123334.88 108679.17 304981.62]\n [0.0 1.0 0.0 101913.08 110594.11 229160.95]\n [1.0 0.0 0.0 100671.96 91790.61 249744.55]\n [0.0 1.0 0.0 93863.75 127320.38 249839.44]\n [1.0 0.0 0.0 91992.39 135495.07 252664.93]\n [0.0 1.0 0.0 119943.24 156547.42 256512.92]\n [0.0 0.0 1.0 114523.61 122616.84 261776.23]\n [1.0 0.0 0.0 78013.11 121597.55 264346.06]\n [0.0 0.0 1.0 94657.16 145077.58 282574.31]\n [0.0 1.0 0.0 91749.16 114175.79 294919.57]\n [0.0 0.0 1.0 86419.7 153514.11 0.0]\n [1.0 0.0 0.0 76253.86 113867.3 298664.47]\n [0.0 0.0 1.0 78389.47 153773.43 299737.29]\n [0.0 1.0 0.0 73994.56 122782.75 303319.26]\n [0.0 1.0 0.0 67532.53 105751.03 304768.73]\n [0.0 0.0 1.0 77044.01 99281.34 140574.81]\n [1.0 0.0 0.0 64664.71 139553.16 137962.62]\n [0.0 1.0 0.0 75328.87 144135.98 134050.07]\n [0.0 0.0 1.0 72107.6 127864.55 353183.81]\n [0.0 1.0 0.0 66051.52 182645.56 118148.2]\n [0.0 0.0 1.0 65605.48 153032.06 107138.38]\n [0.0 1.0 0.0 61994.48 115641.28 91131.24]\n [0.0 0.0 1.0 61136.38 152701.92 88218.23]\n [1.0 0.0 0.0 63408.86 129219.61 46085.25]\n [0.0 1.0 0.0 55493.95 103057.49 214634.81]\n [1.0 0.0 0.0 46426.07 157693.92 210797.67]\n [0.0 0.0 1.0 46014.02 85047.44 205517.64]\n [0.0 1.0 0.0 28663.76 127056.21 201126.82]\n [1.0 0.0 0.0 44069.95 51283.14 197029.42]\n [0.0 0.0 1.0 20229.59 65947.93 185265.1]\n [1.0 0.0 0.0 38558.51 82982.09 174999.3]\n [1.0 0.0 0.0 28754.33 118546.05 172795.67]\n [0.0 1.0 0.0 27892.92 84710.77 164470.71]\n [1.0 0.0 0.0 23640.93 96189.63 148001.11]\n [0.0 0.0 1.0 15505.73 127382.3 35534.17]\n [1.0 0.0 0.0 22177.74 154806.14 28334.72]\n [0.0 0.0 1.0 1000.23 124153.04 1903.93]\n [0.0 1.0 0.0 1315.46 115816.21 297114.46]\n [1.0 0.0 0.0 0.0 135426.92 0.0]\n [0.0 0.0 1.0 542.05 51743.15 0.0]\n [1.0 0.0 0.0 0.0 116983.8 45173.06]]\n"
    }
   ],
   "source": [
    "from sklearn.preprocessing import OneHotEncoder\n",
    "from sklearn.compose import ColumnTransformer\n",
    "CT=ColumnTransformer(transformers=[('encoder',OneHotEncoder(),[3])],remainder='passthrough')\n",
    "x=np.array(CT.fit_transform(x))\n",
    "print(x)"
   ]
  },
  {
   "cell_type": "markdown",
   "metadata": {},
   "source": [
    "\n",
    "Splitting the data"
   ]
  },
  {
   "cell_type": "code",
   "execution_count": 42,
   "metadata": {},
   "outputs": [],
   "source": [
    "from sklearn.model_selection import train_test_split\n",
    "x_train,x_test,y_train,y_test=train_test_split(x,y,test_size=0.2,random_state=0)"
   ]
  },
  {
   "cell_type": "markdown",
   "metadata": {},
   "source": [
    "Building and training the model"
   ]
  },
  {
   "cell_type": "code",
   "execution_count": 43,
   "metadata": {},
   "outputs": [
    {
     "output_type": "execute_result",
     "data": {
      "text/plain": "LinearRegression()"
     },
     "metadata": {},
     "execution_count": 43
    }
   ],
   "source": [
    "from sklearn.linear_model import LinearRegression\n",
    "lr=LinearRegression()\n",
    "lr.fit(x_train,y_train)"
   ]
  },
  {
   "cell_type": "markdown",
   "metadata": {},
   "source": [
    "Testing the model"
   ]
  },
  {
   "cell_type": "code",
   "execution_count": 44,
   "metadata": {
    "tags": []
   },
   "outputs": [
    {
     "output_type": "stream",
     "name": "stdout",
     "text": "[103015.20159795 132582.27760816 132447.73845175  71976.09851258\n 178537.48221057 116161.24230167  67851.69209676  98791.73374687\n 113969.43533014 167921.06569552]\n"
    }
   ],
   "source": [
    "y_pred=lr.predict(x_test)\n",
    "print(y_pred)"
   ]
  },
  {
   "cell_type": "markdown",
   "metadata": {},
   "source": [
    "Trainig Accuracy\n"
   ]
  },
  {
   "cell_type": "code",
   "execution_count": 38,
   "metadata": {},
   "outputs": [
    {
     "output_type": "execute_result",
     "data": {
      "text/plain": "0.964677547531125"
     },
     "metadata": {},
     "execution_count": 38
    }
   ],
   "source": [
    "lr.score(x_train,y_train)"
   ]
  },
  {
   "cell_type": "markdown",
   "metadata": {},
   "source": [
    "Testing Accuracy"
   ]
  },
  {
   "cell_type": "code",
   "execution_count": 45,
   "metadata": {},
   "outputs": [
    {
     "output_type": "execute_result",
     "data": {
      "text/plain": "0.9347068473282515"
     },
     "metadata": {},
     "execution_count": 45
    }
   ],
   "source": [
    "from sklearn.metrics import r2_score\n",
    "r2_score(y_test,y_pred)"
   ]
  },
  {
   "cell_type": "markdown",
   "metadata": {},
   "source": [
    "Final coefficients of the MLR equation"
   ]
  },
  {
   "cell_type": "code",
   "execution_count": 13,
   "metadata": {
    "tags": []
   },
   "outputs": [
    {
     "output_type": "stream",
     "name": "stdout",
     "text": "[ 8.66383692e+01 -8.72645791e+02  7.86007422e+02  7.73467193e-01\n  3.28845975e-02  3.66100259e-02]\n42467.52924853204\n"
    }
   ],
   "source": [
    "print(lr.coef_)\n",
    "print(lr.intercept_)"
   ]
  },
  {
   "cell_type": "markdown",
   "metadata": {},
   "source": [
    "Dependency of dependent variable on all independent variable"
   ]
  },
  {
   "cell_type": "code",
   "execution_count": 48,
   "metadata": {},
   "outputs": [
    {
     "output_type": "execute_result",
     "data": {
      "text/plain": "<matplotlib.collections.PathCollection at 0x7f3354c63b50>"
     },
     "metadata": {},
     "execution_count": 48
    },
    {
     "output_type": "display_data",
     "data": {
      "text/plain": "<Figure size 432x288 with 1 Axes>",
      "image/svg+xml": "<?xml version=\"1.0\" encoding=\"utf-8\" standalone=\"no\"?>\n<!DOCTYPE svg PUBLIC \"-//W3C//DTD SVG 1.1//EN\"\n  \"http://www.w3.org/Graphics/SVG/1.1/DTD/svg11.dtd\">\n<!-- Created with matplotlib (https://matplotlib.org/) -->\n<svg height=\"251.919659pt\" version=\"1.1\" viewBox=\"0 0 394.375 251.919659\" width=\"394.375pt\" xmlns=\"http://www.w3.org/2000/svg\" xmlns:xlink=\"http://www.w3.org/1999/xlink\">\n <defs>\n  <style type=\"text/css\">\n*{stroke-linecap:butt;stroke-linejoin:round;}\n  </style>\n </defs>\n <g id=\"figure_1\">\n  <g id=\"patch_1\">\n   <path d=\"M 0 251.919659 \nL 394.375 251.919659 \nL 394.375 0 \nL 0 0 \nz\n\" style=\"fill:none;\"/>\n  </g>\n  <g id=\"axes_1\">\n   <g id=\"patch_2\">\n    <path d=\"M 52.375 228.041534 \nL 387.175 228.041534 \nL 387.175 10.601534 \nL 52.375 10.601534 \nz\n\" style=\"fill:#ffffff;\"/>\n   </g>\n   <g id=\"PathCollection_1\">\n    <defs>\n     <path d=\"M 0 3 \nC 0.795609 3 1.55874 2.683901 2.12132 2.12132 \nC 2.683901 1.55874 3 0.795609 3 0 \nC 3 -0.795609 2.683901 -1.55874 2.12132 -2.12132 \nC 1.55874 -2.683901 0.795609 -3 0 -3 \nC -0.795609 -3 -1.55874 -2.683901 -2.12132 -2.12132 \nC -2.683901 -1.55874 -3 -0.795609 -3 0 \nC -3 0.795609 -2.683901 1.55874 -2.12132 2.12132 \nC -1.55874 2.683901 -0.795609 3 0 3 \nz\n\" id=\"m03fb6d003d\" style=\"stroke:#ff0000;\"/>\n    </defs>\n    <g clip-path=\"url(#p3ad2823c17)\">\n     <use style=\"fill:#ff0000;stroke:#ff0000;\" x=\"174.265458\" xlink:href=\"#m03fb6d003d\" y=\"20.48517\"/>\n     <use style=\"fill:#ff0000;stroke:#ff0000;\" x=\"172.490374\" xlink:href=\"#m03fb6d003d\" y=\"25.003177\"/>\n     <use style=\"fill:#ff0000;stroke:#ff0000;\" x=\"166.583411\" xlink:href=\"#m03fb6d003d\" y=\"39.753483\"/>\n     <use style=\"fill:#ff0000;stroke:#ff0000;\" x=\"160.732632\" xlink:href=\"#m03fb6d003d\" y=\"47.37019\"/>\n     <use style=\"fill:#ff0000;stroke:#ff0000;\" x=\"159.27136\" xlink:href=\"#m03fb6d003d\" y=\"53.976755\"/>\n     <use style=\"fill:#ff0000;stroke:#ff0000;\" x=\"152.671362\" xlink:href=\"#m03fb6d003d\" y=\"62.146969\"/>\n     <use style=\"fill:#ff0000;stroke:#ff0000;\" x=\"154.438099\" xlink:href=\"#m03fb6d003d\" y=\"69.691896\"/>\n     <use style=\"fill:#ff0000;stroke:#ff0000;\" x=\"151.652845\" xlink:href=\"#m03fb6d003d\" y=\"65.90318\"/>\n     <use style=\"fill:#ff0000;stroke:#ff0000;\" x=\"145.359176\" xlink:href=\"#m03fb6d003d\" y=\"74.251239\"/>\n     <use style=\"fill:#ff0000;stroke:#ff0000;\" x=\"147.160621\" xlink:href=\"#m03fb6d003d\" y=\"74.383938\"/>\n     <use style=\"fill:#ff0000;stroke:#ff0000;\" x=\"133.340704\" xlink:href=\"#m03fb6d003d\" y=\"101.501907\"/>\n     <use style=\"fill:#ff0000;stroke:#ff0000;\" x=\"132.540016\" xlink:href=\"#m03fb6d003d\" y=\"101.321659\"/>\n     <use style=\"fill:#ff0000;stroke:#ff0000;\" x=\"128.147813\" xlink:href=\"#m03fb6d003d\" y=\"108.091858\"/>\n     <use style=\"fill:#ff0000;stroke:#ff0000;\" x=\"126.940537\" xlink:href=\"#m03fb6d003d\" y=\"108.247119\"/>\n     <use style=\"fill:#ff0000;stroke:#ff0000;\" x=\"144.972561\" xlink:href=\"#m03fb6d003d\" y=\"79.452078\"/>\n     <use style=\"fill:#ff0000;stroke:#ff0000;\" x=\"141.476177\" xlink:href=\"#m03fb6d003d\" y=\"84.082708\"/>\n     <use style=\"fill:#ff0000;stroke:#ff0000;\" x=\"117.922037\" xlink:href=\"#m03fb6d003d\" y=\"122.772458\"/>\n     <use style=\"fill:#ff0000;stroke:#ff0000;\" x=\"128.659668\" xlink:href=\"#m03fb6d003d\" y=\"102.65961\"/>\n     <use style=\"fill:#ff0000;stroke:#ff0000;\" x=\"126.783621\" xlink:href=\"#m03fb6d003d\" y=\"108.651114\"/>\n     <use style=\"fill:#ff0000;stroke:#ff0000;\" x=\"123.345409\" xlink:href=\"#m03fb6d003d\" y=\"124.683685\"/>\n     <use style=\"fill:#ff0000;stroke:#ff0000;\" x=\"116.787087\" xlink:href=\"#m03fb6d003d\" y=\"123.252796\"/>\n     <use style=\"fill:#ff0000;stroke:#ff0000;\" x=\"118.16484\" xlink:href=\"#m03fb6d003d\" y=\"118.29204\"/>\n     <use style=\"fill:#ff0000;stroke:#ff0000;\" x=\"115.329537\" xlink:href=\"#m03fb6d003d\" y=\"126.258089\"/>\n     <use style=\"fill:#ff0000;stroke:#ff0000;\" x=\"111.160666\" xlink:href=\"#m03fb6d003d\" y=\"133.633623\"/>\n     <use style=\"fill:#ff0000;stroke:#ff0000;\" x=\"117.296839\" xlink:href=\"#m03fb6d003d\" y=\"129.89363\"/>\n     <use style=\"fill:#ff0000;stroke:#ff0000;\" x=\"109.31054\" xlink:href=\"#m03fb6d003d\" y=\"142.012494\"/>\n     <use style=\"fill:#ff0000;stroke:#ff0000;\" x=\"116.190345\" xlink:href=\"#m03fb6d003d\" y=\"132.236978\"/>\n     <use style=\"fill:#ff0000;stroke:#ff0000;\" x=\"114.112196\" xlink:href=\"#m03fb6d003d\" y=\"123.321631\"/>\n     <use style=\"fill:#ff0000;stroke:#ff0000;\" x=\"110.205217\" xlink:href=\"#m03fb6d003d\" y=\"140.93395\"/>\n     <use style=\"fill:#ff0000;stroke:#ff0000;\" x=\"109.917462\" xlink:href=\"#m03fb6d003d\" y=\"141.018678\"/>\n     <use style=\"fill:#ff0000;stroke:#ff0000;\" x=\"107.587886\" xlink:href=\"#m03fb6d003d\" y=\"149.415179\"/>\n     <use style=\"fill:#ff0000;stroke:#ff0000;\" x=\"107.034297\" xlink:href=\"#m03fb6d003d\" y=\"146.592313\"/>\n     <use style=\"fill:#ff0000;stroke:#ff0000;\" x=\"108.500349\" xlink:href=\"#m03fb6d003d\" y=\"148.275534\"/>\n     <use style=\"fill:#ff0000;stroke:#ff0000;\" x=\"103.394177\" xlink:href=\"#m03fb6d003d\" y=\"150.648132\"/>\n     <use style=\"fill:#ff0000;stroke:#ff0000;\" x=\"97.544186\" xlink:href=\"#m03fb6d003d\" y=\"156.540596\"/>\n     <use style=\"fill:#ff0000;stroke:#ff0000;\" x=\"97.278359\" xlink:href=\"#m03fb6d003d\" y=\"159.490162\"/>\n     <use style=\"fill:#ff0000;stroke:#ff0000;\" x=\"86.085128\" xlink:href=\"#m03fb6d003d\" y=\"178.056079\"/>\n     <use style=\"fill:#ff0000;stroke:#ff0000;\" x=\"96.024174\" xlink:href=\"#m03fb6d003d\" y=\"164.345557\"/>\n     <use style=\"fill:#ff0000;stroke:#ff0000;\" x=\"80.643964\" xlink:href=\"#m03fb6d003d\" y=\"188.044026\"/>\n     <use style=\"fill:#ff0000;stroke:#ff0000;\" x=\"92.468561\" xlink:href=\"#m03fb6d003d\" y=\"169.740748\"/>\n     <use style=\"fill:#ff0000;stroke:#ff0000;\" x=\"86.143558\" xlink:href=\"#m03fb6d003d\" y=\"178.44155\"/>\n     <use style=\"fill:#ff0000;stroke:#ff0000;\" x=\"85.587834\" xlink:href=\"#m03fb6d003d\" y=\"182.51838\"/>\n     <use style=\"fill:#ff0000;stroke:#ff0000;\" x=\"82.844733\" xlink:href=\"#m03fb6d003d\" y=\"185.941378\"/>\n     <use style=\"fill:#ff0000;stroke:#ff0000;\" x=\"77.596445\" xlink:href=\"#m03fb6d003d\" y=\"197.576513\"/>\n     <use style=\"fill:#ff0000;stroke:#ff0000;\" x=\"81.900781\" xlink:href=\"#m03fb6d003d\" y=\"190.744543\"/>\n     <use style=\"fill:#ff0000;stroke:#ff0000;\" x=\"68.238464\" xlink:href=\"#m03fb6d003d\" y=\"214.399569\"/>\n     <use style=\"fill:#ff0000;stroke:#ff0000;\" x=\"68.441829\" xlink:href=\"#m03fb6d003d\" y=\"202.18288\"/>\n     <use style=\"fill:#ff0000;stroke:#ff0000;\" x=\"67.593182\" xlink:href=\"#m03fb6d003d\" y=\"215.969721\"/>\n     <use style=\"fill:#ff0000;stroke:#ff0000;\" x=\"67.942876\" xlink:href=\"#m03fb6d003d\" y=\"218.157897\"/>\n     <use style=\"fill:#ff0000;stroke:#ff0000;\" x=\"67.593182\" xlink:href=\"#m03fb6d003d\" y=\"214.566618\"/>\n    </g>\n   </g>\n   <g id=\"PathCollection_2\">\n    <defs>\n     <path d=\"M 0 3 \nC 0.795609 3 1.55874 2.683901 2.12132 2.12132 \nC 2.683901 1.55874 3 0.795609 3 0 \nC 3 -0.795609 2.683901 -1.55874 2.12132 -2.12132 \nC 1.55874 -2.683901 0.795609 -3 0 -3 \nC -0.795609 -3 -1.55874 -2.683901 -2.12132 -2.12132 \nC -2.683901 -1.55874 -3 -0.795609 -3 0 \nC -3 0.795609 -2.683901 1.55874 -2.12132 2.12132 \nC -1.55874 2.683901 -0.795609 3 0 3 \nz\n\" id=\"ma601cb224c\" style=\"stroke:#0000ff;\"/>\n    </defs>\n    <g clip-path=\"url(#p3ad2823c17)\">\n     <use style=\"fill:#0000ff;stroke:#0000ff;\" x=\"155.910512\" xlink:href=\"#ma601cb224c\" y=\"20.48517\"/>\n     <use style=\"fill:#0000ff;stroke:#0000ff;\" x=\"165.251907\" xlink:href=\"#ma601cb224c\" y=\"25.003177\"/>\n     <use style=\"fill:#0000ff;stroke:#0000ff;\" x=\"132.845545\" xlink:href=\"#ma601cb224c\" y=\"39.753483\"/>\n     <use style=\"fill:#0000ff;stroke:#0000ff;\" x=\"144.152345\" xlink:href=\"#ma601cb224c\" y=\"47.37019\"/>\n     <use style=\"fill:#0000ff;stroke:#0000ff;\" x=\"126.553057\" xlink:href=\"#ma601cb224c\" y=\"53.976755\"/>\n     <use style=\"fill:#0000ff;stroke:#0000ff;\" x=\"131.986976\" xlink:href=\"#ma601cb224c\" y=\"62.146969\"/>\n     <use style=\"fill:#0000ff;stroke:#0000ff;\" x=\"162.556076\" xlink:href=\"#ma601cb224c\" y=\"69.691896\"/>\n     <use style=\"fill:#0000ff;stroke:#0000ff;\" x=\"161.479471\" xlink:href=\"#ma601cb224c\" y=\"65.90318\"/>\n     <use style=\"fill:#0000ff;stroke:#0000ff;\" x=\"163.53673\" xlink:href=\"#ma601cb224c\" y=\"74.251239\"/>\n     <use style=\"fill:#0000ff;stroke:#0000ff;\" x=\"137.705734\" xlink:href=\"#ma601cb224c\" y=\"74.383938\"/>\n     <use style=\"fill:#0000ff;stroke:#0000ff;\" x=\"138.941126\" xlink:href=\"#ma601cb224c\" y=\"101.501907\"/>\n     <use style=\"fill:#0000ff;stroke:#0000ff;\" x=\"126.810362\" xlink:href=\"#ma601cb224c\" y=\"101.321659\"/>\n     <use style=\"fill:#0000ff;stroke:#0000ff;\" x=\"149.7318\" xlink:href=\"#ma601cb224c\" y=\"108.091858\"/>\n     <use style=\"fill:#0000ff;stroke:#0000ff;\" x=\"155.005564\" xlink:href=\"#ma601cb224c\" y=\"108.247119\"/>\n     <use style=\"fill:#0000ff;stroke:#0000ff;\" x=\"168.587136\" xlink:href=\"#ma601cb224c\" y=\"79.452078\"/>\n     <use style=\"fill:#0000ff;stroke:#0000ff;\" x=\"146.697389\" xlink:href=\"#ma601cb224c\" y=\"84.082708\"/>\n     <use style=\"fill:#0000ff;stroke:#0000ff;\" x=\"146.039811\" xlink:href=\"#ma601cb224c\" y=\"122.772458\"/>\n     <use style=\"fill:#0000ff;stroke:#0000ff;\" x=\"161.187561\" xlink:href=\"#ma601cb224c\" y=\"102.65961\"/>\n     <use style=\"fill:#0000ff;stroke:#0000ff;\" x=\"141.251787\" xlink:href=\"#ma601cb224c\" y=\"108.651114\"/>\n     <use style=\"fill:#0000ff;stroke:#0000ff;\" x=\"166.630247\" xlink:href=\"#ma601cb224c\" y=\"124.683685\"/>\n     <use style=\"fill:#0000ff;stroke:#0000ff;\" x=\"141.05277\" xlink:href=\"#ma601cb224c\" y=\"123.252796\"/>\n     <use style=\"fill:#0000ff;stroke:#0000ff;\" x=\"166.797543\" xlink:href=\"#ma601cb224c\" y=\"118.29204\"/>\n     <use style=\"fill:#0000ff;stroke:#0000ff;\" x=\"146.804423\" xlink:href=\"#ma601cb224c\" y=\"126.258089\"/>\n     <use style=\"fill:#0000ff;stroke:#0000ff;\" x=\"135.816693\" xlink:href=\"#ma601cb224c\" y=\"133.633623\"/>\n     <use style=\"fill:#0000ff;stroke:#0000ff;\" x=\"131.642881\" xlink:href=\"#ma601cb224c\" y=\"129.89363\"/>\n     <use style=\"fill:#0000ff;stroke:#0000ff;\" x=\"157.623573\" xlink:href=\"#ma601cb224c\" y=\"142.012494\"/>\n     <use style=\"fill:#0000ff;stroke:#0000ff;\" x=\"160.580103\" xlink:href=\"#ma601cb224c\" y=\"132.236978\"/>\n     <use style=\"fill:#0000ff;stroke:#0000ff;\" x=\"150.082862\" xlink:href=\"#ma601cb224c\" y=\"123.321631\"/>\n     <use style=\"fill:#0000ff;stroke:#0000ff;\" x=\"185.423916\" xlink:href=\"#ma601cb224c\" y=\"140.93395\"/>\n     <use style=\"fill:#0000ff;stroke:#0000ff;\" x=\"166.319261\" xlink:href=\"#ma601cb224c\" y=\"141.018678\"/>\n     <use style=\"fill:#0000ff;stroke:#0000ff;\" x=\"142.197223\" xlink:href=\"#ma601cb224c\" y=\"149.415179\"/>\n     <use style=\"fill:#0000ff;stroke:#0000ff;\" x=\"166.106276\" xlink:href=\"#ma601cb224c\" y=\"146.592313\"/>\n     <use style=\"fill:#0000ff;stroke:#0000ff;\" x=\"150.957056\" xlink:href=\"#ma601cb224c\" y=\"148.275534\"/>\n     <use style=\"fill:#0000ff;stroke:#0000ff;\" x=\"134.079001\" xlink:href=\"#ma601cb224c\" y=\"150.648132\"/>\n     <use style=\"fill:#0000ff;stroke:#0000ff;\" x=\"169.326782\" xlink:href=\"#ma601cb224c\" y=\"156.540596\"/>\n     <use style=\"fill:#0000ff;stroke:#0000ff;\" x=\"122.460118\" xlink:href=\"#ma601cb224c\" y=\"159.490162\"/>\n     <use style=\"fill:#0000ff;stroke:#0000ff;\" x=\"149.561375\" xlink:href=\"#ma601cb224c\" y=\"178.056079\"/>\n     <use style=\"fill:#0000ff;stroke:#0000ff;\" x=\"100.677643\" xlink:href=\"#ma601cb224c\" y=\"164.345557\"/>\n     <use style=\"fill:#0000ff;stroke:#0000ff;\" x=\"110.138388\" xlink:href=\"#ma601cb224c\" y=\"188.044026\"/>\n     <use style=\"fill:#0000ff;stroke:#0000ff;\" x=\"121.127692\" xlink:href=\"#ma601cb224c\" y=\"169.740748\"/>\n     <use style=\"fill:#0000ff;stroke:#0000ff;\" x=\"144.071187\" xlink:href=\"#ma601cb224c\" y=\"178.44155\"/>\n     <use style=\"fill:#0000ff;stroke:#0000ff;\" x=\"122.242921\" xlink:href=\"#ma601cb224c\" y=\"182.51838\"/>\n     <use style=\"fill:#0000ff;stroke:#0000ff;\" x=\"129.648316\" xlink:href=\"#ma601cb224c\" y=\"185.941378\"/>\n     <use style=\"fill:#0000ff;stroke:#0000ff;\" x=\"149.771746\" xlink:href=\"#ma601cb224c\" y=\"197.576513\"/>\n     <use style=\"fill:#0000ff;stroke:#0000ff;\" x=\"167.463779\" xlink:href=\"#ma601cb224c\" y=\"190.744543\"/>\n     <use style=\"fill:#0000ff;stroke:#0000ff;\" x=\"147.688443\" xlink:href=\"#ma601cb224c\" y=\"214.399569\"/>\n     <use style=\"fill:#0000ff;stroke:#0000ff;\" x=\"142.310076\" xlink:href=\"#ma601cb224c\" y=\"202.18288\"/>\n     <use style=\"fill:#0000ff;stroke:#0000ff;\" x=\"154.961599\" xlink:href=\"#ma601cb224c\" y=\"215.969721\"/>\n     <use style=\"fill:#0000ff;stroke:#0000ff;\" x=\"100.974411\" xlink:href=\"#ma601cb224c\" y=\"218.157897\"/>\n     <use style=\"fill:#0000ff;stroke:#0000ff;\" x=\"143.063328\" xlink:href=\"#ma601cb224c\" y=\"214.566618\"/>\n    </g>\n   </g>\n   <g id=\"PathCollection_3\">\n    <defs>\n     <path d=\"M 0 3 \nC 0.795609 3 1.55874 2.683901 2.12132 2.12132 \nC 2.683901 1.55874 3 0.795609 3 0 \nC 3 -0.795609 2.683901 -1.55874 2.12132 -2.12132 \nC 1.55874 -2.683901 0.795609 -3 0 -3 \nC -0.795609 -3 -1.55874 -2.683901 -2.12132 -2.12132 \nC -2.683901 -1.55874 -3 -0.795609 -3 0 \nC -3 0.795609 -2.683901 1.55874 -2.12132 2.12132 \nC -1.55874 2.683901 -0.795609 3 0 3 \nz\n\" id=\"m764dbfc87d\" style=\"stroke:#008000;\"/>\n    </defs>\n    <g clip-path=\"url(#p3ad2823c17)\">\n     <use style=\"fill:#008000;stroke:#008000;\" x=\"371.956818\" xlink:href=\"#m764dbfc87d\" y=\"20.48517\"/>\n     <use style=\"fill:#008000;stroke:#008000;\" x=\"353.966908\" xlink:href=\"#m764dbfc87d\" y=\"25.003177\"/>\n     <use style=\"fill:#008000;stroke:#008000;\" x=\"330.76534\" xlink:href=\"#m764dbfc87d\" y=\"39.753483\"/>\n     <use style=\"fill:#008000;stroke:#008000;\" x=\"314.80802\" xlink:href=\"#m764dbfc87d\" y=\"47.37019\"/>\n     <use style=\"fill:#008000;stroke:#008000;\" x=\"303.820625\" xlink:href=\"#m764dbfc87d\" y=\"53.976755\"/>\n     <use style=\"fill:#008000;stroke:#008000;\" x=\"301.687131\" xlink:href=\"#m764dbfc87d\" y=\"62.146969\"/>\n     <use style=\"fill:#008000;stroke:#008000;\" x=\"149.987556\" xlink:href=\"#m764dbfc87d\" y=\"69.691896\"/>\n     <use style=\"fill:#008000;stroke:#008000;\" x=\"276.536815\" xlink:href=\"#m764dbfc87d\" y=\"65.90318\"/>\n     <use style=\"fill:#008000;stroke:#008000;\" x=\"268.625294\" xlink:href=\"#m764dbfc87d\" y=\"74.251239\"/>\n     <use style=\"fill:#008000;stroke:#008000;\" x=\"264.346983\" xlink:href=\"#m764dbfc87d\" y=\"74.383938\"/>\n     <use style=\"fill:#008000;stroke:#008000;\" x=\"215.432543\" xlink:href=\"#m764dbfc87d\" y=\"101.501907\"/>\n     <use style=\"fill:#008000;stroke:#008000;\" x=\"228.711709\" xlink:href=\"#m764dbfc87d\" y=\"101.321659\"/>\n     <use style=\"fill:#008000;stroke:#008000;\" x=\"228.772926\" xlink:href=\"#m764dbfc87d\" y=\"108.091858\"/>\n     <use style=\"fill:#008000;stroke:#008000;\" x=\"230.595744\" xlink:href=\"#m764dbfc87d\" y=\"108.247119\"/>\n     <use style=\"fill:#008000;stroke:#008000;\" x=\"233.07821\" xlink:href=\"#m764dbfc87d\" y=\"79.452078\"/>\n     <use style=\"fill:#008000;stroke:#008000;\" x=\"236.473747\" xlink:href=\"#m764dbfc87d\" y=\"84.082708\"/>\n     <use style=\"fill:#008000;stroke:#008000;\" x=\"238.13163\" xlink:href=\"#m764dbfc87d\" y=\"122.772458\"/>\n     <use style=\"fill:#008000;stroke:#008000;\" x=\"249.891281\" xlink:href=\"#m764dbfc87d\" y=\"102.65961\"/>\n     <use style=\"fill:#008000;stroke:#008000;\" x=\"257.855619\" xlink:href=\"#m764dbfc87d\" y=\"108.651114\"/>\n     <use style=\"fill:#008000;stroke:#008000;\" x=\"67.593182\" xlink:href=\"#m764dbfc87d\" y=\"124.683685\"/>\n     <use style=\"fill:#008000;stroke:#008000;\" x=\"260.271579\" xlink:href=\"#m764dbfc87d\" y=\"123.252796\"/>\n     <use style=\"fill:#008000;stroke:#008000;\" x=\"260.963691\" xlink:href=\"#m764dbfc87d\" y=\"118.29204\"/>\n     <use style=\"fill:#008000;stroke:#008000;\" x=\"263.274539\" xlink:href=\"#m764dbfc87d\" y=\"126.258089\"/>\n     <use style=\"fill:#008000;stroke:#008000;\" x=\"264.20964\" xlink:href=\"#m764dbfc87d\" y=\"133.633623\"/>\n     <use style=\"fill:#008000;stroke:#008000;\" x=\"158.282674\" xlink:href=\"#m764dbfc87d\" y=\"129.89363\"/>\n     <use style=\"fill:#008000;stroke:#008000;\" x=\"156.597463\" xlink:href=\"#m764dbfc87d\" y=\"142.012494\"/>\n     <use style=\"fill:#008000;stroke:#008000;\" x=\"154.073347\" xlink:href=\"#m764dbfc87d\" y=\"132.236978\"/>\n     <use style=\"fill:#008000;stroke:#008000;\" x=\"295.443821\" xlink:href=\"#m764dbfc87d\" y=\"123.321631\"/>\n     <use style=\"fill:#008000;stroke:#008000;\" x=\"143.814521\" xlink:href=\"#m764dbfc87d\" y=\"140.93395\"/>\n     <use style=\"fill:#008000;stroke:#008000;\" x=\"136.711719\" xlink:href=\"#m764dbfc87d\" y=\"141.018678\"/>\n     <use style=\"fill:#008000;stroke:#008000;\" x=\"126.38498\" xlink:href=\"#m764dbfc87d\" y=\"149.415179\"/>\n     <use style=\"fill:#008000;stroke:#008000;\" x=\"124.5057\" xlink:href=\"#m764dbfc87d\" y=\"146.592313\"/>\n     <use style=\"fill:#008000;stroke:#008000;\" x=\"97.324312\" xlink:href=\"#m764dbfc87d\" y=\"148.275534\"/>\n     <use style=\"fill:#008000;stroke:#008000;\" x=\"206.061246\" xlink:href=\"#m764dbfc87d\" y=\"150.648132\"/>\n     <use style=\"fill:#008000;stroke:#008000;\" x=\"203.58578\" xlink:href=\"#m764dbfc87d\" y=\"156.540596\"/>\n     <use style=\"fill:#008000;stroke:#008000;\" x=\"200.179456\" xlink:href=\"#m764dbfc87d\" y=\"159.490162\"/>\n     <use style=\"fill:#008000;stroke:#008000;\" x=\"197.346792\" xlink:href=\"#m764dbfc87d\" y=\"178.056079\"/>\n     <use style=\"fill:#008000;stroke:#008000;\" x=\"194.703423\" xlink:href=\"#m764dbfc87d\" y=\"164.345557\"/>\n     <use style=\"fill:#008000;stroke:#008000;\" x=\"187.113868\" xlink:href=\"#m764dbfc87d\" y=\"188.044026\"/>\n     <use style=\"fill:#008000;stroke:#008000;\" x=\"180.491059\" xlink:href=\"#m764dbfc87d\" y=\"169.740748\"/>\n     <use style=\"fill:#008000;stroke:#008000;\" x=\"179.069424\" xlink:href=\"#m764dbfc87d\" y=\"178.44155\"/>\n     <use style=\"fill:#008000;stroke:#008000;\" x=\"173.698715\" xlink:href=\"#m764dbfc87d\" y=\"182.51838\"/>\n     <use style=\"fill:#008000;stroke:#008000;\" x=\"163.073627\" xlink:href=\"#m764dbfc87d\" y=\"185.941378\"/>\n     <use style=\"fill:#008000;stroke:#008000;\" x=\"90.517458\" xlink:href=\"#m764dbfc87d\" y=\"197.576513\"/>\n     <use style=\"fill:#008000;stroke:#008000;\" x=\"85.872853\" xlink:href=\"#m764dbfc87d\" y=\"190.744543\"/>\n     <use style=\"fill:#008000;stroke:#008000;\" x=\"68.82147\" xlink:href=\"#m764dbfc87d\" y=\"214.399569\"/>\n     <use style=\"fill:#008000;stroke:#008000;\" x=\"259.271616\" xlink:href=\"#m764dbfc87d\" y=\"202.18288\"/>\n     <use style=\"fill:#008000;stroke:#008000;\" x=\"67.593182\" xlink:href=\"#m764dbfc87d\" y=\"215.969721\"/>\n     <use style=\"fill:#008000;stroke:#008000;\" x=\"67.593182\" xlink:href=\"#m764dbfc87d\" y=\"218.157897\"/>\n     <use style=\"fill:#008000;stroke:#008000;\" x=\"96.735827\" xlink:href=\"#m764dbfc87d\" y=\"214.566618\"/>\n    </g>\n   </g>\n   <g id=\"matplotlib.axis_1\">\n    <g id=\"xtick_1\">\n     <g id=\"line2d_1\">\n      <defs>\n       <path d=\"M 0 0 \nL 0 3.5 \n\" id=\"m1757c9dee5\" style=\"stroke:#000000;stroke-width:0.8;\"/>\n      </defs>\n      <g>\n       <use style=\"stroke:#000000;stroke-width:0.8;\" x=\"67.593182\" xlink:href=\"#m1757c9dee5\" y=\"228.041534\"/>\n      </g>\n     </g>\n     <g id=\"text_1\">\n      <!-- 0 -->\n      <defs>\n       <path d=\"M 31.78125 66.40625 \nQ 24.171875 66.40625 20.328125 58.90625 \nQ 16.5 51.421875 16.5 36.375 \nQ 16.5 21.390625 20.328125 13.890625 \nQ 24.171875 6.390625 31.78125 6.390625 \nQ 39.453125 6.390625 43.28125 13.890625 \nQ 47.125 21.390625 47.125 36.375 \nQ 47.125 51.421875 43.28125 58.90625 \nQ 39.453125 66.40625 31.78125 66.40625 \nz\nM 31.78125 74.21875 \nQ 44.046875 74.21875 50.515625 64.515625 \nQ 56.984375 54.828125 56.984375 36.375 \nQ 56.984375 17.96875 50.515625 8.265625 \nQ 44.046875 -1.421875 31.78125 -1.421875 \nQ 19.53125 -1.421875 13.0625 8.265625 \nQ 6.59375 17.96875 6.59375 36.375 \nQ 6.59375 54.828125 13.0625 64.515625 \nQ 19.53125 74.21875 31.78125 74.21875 \nz\n\" id=\"DejaVuSans-48\"/>\n      </defs>\n      <g transform=\"translate(64.411932 242.639971)scale(0.1 -0.1)\">\n       <use xlink:href=\"#DejaVuSans-48\"/>\n      </g>\n     </g>\n    </g>\n    <g id=\"xtick_2\">\n     <g id=\"line2d_2\">\n      <g>\n       <use style=\"stroke:#000000;stroke-width:0.8;\" x=\"132.106512\" xlink:href=\"#m1757c9dee5\" y=\"228.041534\"/>\n      </g>\n     </g>\n     <g id=\"text_2\">\n      <!-- 100000 -->\n      <defs>\n       <path d=\"M 12.40625 8.296875 \nL 28.515625 8.296875 \nL 28.515625 63.921875 \nL 10.984375 60.40625 \nL 10.984375 69.390625 \nL 28.421875 72.90625 \nL 38.28125 72.90625 \nL 38.28125 8.296875 \nL 54.390625 8.296875 \nL 54.390625 0 \nL 12.40625 0 \nz\n\" id=\"DejaVuSans-49\"/>\n      </defs>\n      <g transform=\"translate(113.019012 242.639971)scale(0.1 -0.1)\">\n       <use xlink:href=\"#DejaVuSans-49\"/>\n       <use x=\"63.623047\" xlink:href=\"#DejaVuSans-48\"/>\n       <use x=\"127.246094\" xlink:href=\"#DejaVuSans-48\"/>\n       <use x=\"190.869141\" xlink:href=\"#DejaVuSans-48\"/>\n       <use x=\"254.492188\" xlink:href=\"#DejaVuSans-48\"/>\n       <use x=\"318.115234\" xlink:href=\"#DejaVuSans-48\"/>\n      </g>\n     </g>\n    </g>\n    <g id=\"xtick_3\">\n     <g id=\"line2d_3\">\n      <g>\n       <use style=\"stroke:#000000;stroke-width:0.8;\" x=\"196.619843\" xlink:href=\"#m1757c9dee5\" y=\"228.041534\"/>\n      </g>\n     </g>\n     <g id=\"text_3\">\n      <!-- 200000 -->\n      <defs>\n       <path d=\"M 19.1875 8.296875 \nL 53.609375 8.296875 \nL 53.609375 0 \nL 7.328125 0 \nL 7.328125 8.296875 \nQ 12.9375 14.109375 22.625 23.890625 \nQ 32.328125 33.6875 34.8125 36.53125 \nQ 39.546875 41.84375 41.421875 45.53125 \nQ 43.3125 49.21875 43.3125 52.78125 \nQ 43.3125 58.59375 39.234375 62.25 \nQ 35.15625 65.921875 28.609375 65.921875 \nQ 23.96875 65.921875 18.8125 64.3125 \nQ 13.671875 62.703125 7.8125 59.421875 \nL 7.8125 69.390625 \nQ 13.765625 71.78125 18.9375 73 \nQ 24.125 74.21875 28.421875 74.21875 \nQ 39.75 74.21875 46.484375 68.546875 \nQ 53.21875 62.890625 53.21875 53.421875 \nQ 53.21875 48.921875 51.53125 44.890625 \nQ 49.859375 40.875 45.40625 35.40625 \nQ 44.1875 33.984375 37.640625 27.21875 \nQ 31.109375 20.453125 19.1875 8.296875 \nz\n\" id=\"DejaVuSans-50\"/>\n      </defs>\n      <g transform=\"translate(177.532343 242.639971)scale(0.1 -0.1)\">\n       <use xlink:href=\"#DejaVuSans-50\"/>\n       <use x=\"63.623047\" xlink:href=\"#DejaVuSans-48\"/>\n       <use x=\"127.246094\" xlink:href=\"#DejaVuSans-48\"/>\n       <use x=\"190.869141\" xlink:href=\"#DejaVuSans-48\"/>\n       <use x=\"254.492188\" xlink:href=\"#DejaVuSans-48\"/>\n       <use x=\"318.115234\" xlink:href=\"#DejaVuSans-48\"/>\n      </g>\n     </g>\n    </g>\n    <g id=\"xtick_4\">\n     <g id=\"line2d_4\">\n      <g>\n       <use style=\"stroke:#000000;stroke-width:0.8;\" x=\"261.133174\" xlink:href=\"#m1757c9dee5\" y=\"228.041534\"/>\n      </g>\n     </g>\n     <g id=\"text_4\">\n      <!-- 300000 -->\n      <defs>\n       <path d=\"M 40.578125 39.3125 \nQ 47.65625 37.796875 51.625 33 \nQ 55.609375 28.21875 55.609375 21.1875 \nQ 55.609375 10.40625 48.1875 4.484375 \nQ 40.765625 -1.421875 27.09375 -1.421875 \nQ 22.515625 -1.421875 17.65625 -0.515625 \nQ 12.796875 0.390625 7.625 2.203125 \nL 7.625 11.71875 \nQ 11.71875 9.328125 16.59375 8.109375 \nQ 21.484375 6.890625 26.8125 6.890625 \nQ 36.078125 6.890625 40.9375 10.546875 \nQ 45.796875 14.203125 45.796875 21.1875 \nQ 45.796875 27.640625 41.28125 31.265625 \nQ 36.765625 34.90625 28.71875 34.90625 \nL 20.21875 34.90625 \nL 20.21875 43.015625 \nL 29.109375 43.015625 \nQ 36.375 43.015625 40.234375 45.921875 \nQ 44.09375 48.828125 44.09375 54.296875 \nQ 44.09375 59.90625 40.109375 62.90625 \nQ 36.140625 65.921875 28.71875 65.921875 \nQ 24.65625 65.921875 20.015625 65.03125 \nQ 15.375 64.15625 9.8125 62.3125 \nL 9.8125 71.09375 \nQ 15.4375 72.65625 20.34375 73.4375 \nQ 25.25 74.21875 29.59375 74.21875 \nQ 40.828125 74.21875 47.359375 69.109375 \nQ 53.90625 64.015625 53.90625 55.328125 \nQ 53.90625 49.265625 50.4375 45.09375 \nQ 46.96875 40.921875 40.578125 39.3125 \nz\n\" id=\"DejaVuSans-51\"/>\n      </defs>\n      <g transform=\"translate(242.045674 242.639971)scale(0.1 -0.1)\">\n       <use xlink:href=\"#DejaVuSans-51\"/>\n       <use x=\"63.623047\" xlink:href=\"#DejaVuSans-48\"/>\n       <use x=\"127.246094\" xlink:href=\"#DejaVuSans-48\"/>\n       <use x=\"190.869141\" xlink:href=\"#DejaVuSans-48\"/>\n       <use x=\"254.492188\" xlink:href=\"#DejaVuSans-48\"/>\n       <use x=\"318.115234\" xlink:href=\"#DejaVuSans-48\"/>\n      </g>\n     </g>\n    </g>\n    <g id=\"xtick_5\">\n     <g id=\"line2d_5\">\n      <g>\n       <use style=\"stroke:#000000;stroke-width:0.8;\" x=\"325.646504\" xlink:href=\"#m1757c9dee5\" y=\"228.041534\"/>\n      </g>\n     </g>\n     <g id=\"text_5\">\n      <!-- 400000 -->\n      <defs>\n       <path d=\"M 37.796875 64.3125 \nL 12.890625 25.390625 \nL 37.796875 25.390625 \nz\nM 35.203125 72.90625 \nL 47.609375 72.90625 \nL 47.609375 25.390625 \nL 58.015625 25.390625 \nL 58.015625 17.1875 \nL 47.609375 17.1875 \nL 47.609375 0 \nL 37.796875 0 \nL 37.796875 17.1875 \nL 4.890625 17.1875 \nL 4.890625 26.703125 \nz\n\" id=\"DejaVuSans-52\"/>\n      </defs>\n      <g transform=\"translate(306.559004 242.639971)scale(0.1 -0.1)\">\n       <use xlink:href=\"#DejaVuSans-52\"/>\n       <use x=\"63.623047\" xlink:href=\"#DejaVuSans-48\"/>\n       <use x=\"127.246094\" xlink:href=\"#DejaVuSans-48\"/>\n       <use x=\"190.869141\" xlink:href=\"#DejaVuSans-48\"/>\n       <use x=\"254.492188\" xlink:href=\"#DejaVuSans-48\"/>\n       <use x=\"318.115234\" xlink:href=\"#DejaVuSans-48\"/>\n      </g>\n     </g>\n    </g>\n   </g>\n   <g id=\"matplotlib.axis_2\">\n    <g id=\"ytick_1\">\n     <g id=\"line2d_6\">\n      <defs>\n       <path d=\"M 0 0 \nL -3.5 0 \n\" id=\"mcb3f8b8495\" style=\"stroke:#000000;stroke-width:0.8;\"/>\n      </defs>\n      <g>\n       <use style=\"stroke:#000000;stroke-width:0.8;\" x=\"52.375\" xlink:href=\"#mcb3f8b8495\" y=\"225.358143\"/>\n      </g>\n     </g>\n     <g id=\"text_6\">\n      <!-- 40000 -->\n      <g transform=\"translate(13.5625 229.157362)scale(0.1 -0.1)\">\n       <use xlink:href=\"#DejaVuSans-52\"/>\n       <use x=\"63.623047\" xlink:href=\"#DejaVuSans-48\"/>\n       <use x=\"127.246094\" xlink:href=\"#DejaVuSans-48\"/>\n       <use x=\"190.869141\" xlink:href=\"#DejaVuSans-48\"/>\n       <use x=\"254.492188\" xlink:href=\"#DejaVuSans-48\"/>\n      </g>\n     </g>\n    </g>\n    <g id=\"ytick_2\">\n     <g id=\"line2d_7\">\n      <g>\n       <use style=\"stroke:#000000;stroke-width:0.8;\" x=\"52.375\" xlink:href=\"#mcb3f8b8495\" y=\"198.563277\"/>\n      </g>\n     </g>\n     <g id=\"text_7\">\n      <!-- 60000 -->\n      <defs>\n       <path d=\"M 33.015625 40.375 \nQ 26.375 40.375 22.484375 35.828125 \nQ 18.609375 31.296875 18.609375 23.390625 \nQ 18.609375 15.53125 22.484375 10.953125 \nQ 26.375 6.390625 33.015625 6.390625 \nQ 39.65625 6.390625 43.53125 10.953125 \nQ 47.40625 15.53125 47.40625 23.390625 \nQ 47.40625 31.296875 43.53125 35.828125 \nQ 39.65625 40.375 33.015625 40.375 \nz\nM 52.59375 71.296875 \nL 52.59375 62.3125 \nQ 48.875 64.0625 45.09375 64.984375 \nQ 41.3125 65.921875 37.59375 65.921875 \nQ 27.828125 65.921875 22.671875 59.328125 \nQ 17.53125 52.734375 16.796875 39.40625 \nQ 19.671875 43.65625 24.015625 45.921875 \nQ 28.375 48.1875 33.59375 48.1875 \nQ 44.578125 48.1875 50.953125 41.515625 \nQ 57.328125 34.859375 57.328125 23.390625 \nQ 57.328125 12.15625 50.6875 5.359375 \nQ 44.046875 -1.421875 33.015625 -1.421875 \nQ 20.359375 -1.421875 13.671875 8.265625 \nQ 6.984375 17.96875 6.984375 36.375 \nQ 6.984375 53.65625 15.1875 63.9375 \nQ 23.390625 74.21875 37.203125 74.21875 \nQ 40.921875 74.21875 44.703125 73.484375 \nQ 48.484375 72.75 52.59375 71.296875 \nz\n\" id=\"DejaVuSans-54\"/>\n      </defs>\n      <g transform=\"translate(13.5625 202.362496)scale(0.1 -0.1)\">\n       <use xlink:href=\"#DejaVuSans-54\"/>\n       <use x=\"63.623047\" xlink:href=\"#DejaVuSans-48\"/>\n       <use x=\"127.246094\" xlink:href=\"#DejaVuSans-48\"/>\n       <use x=\"190.869141\" xlink:href=\"#DejaVuSans-48\"/>\n       <use x=\"254.492188\" xlink:href=\"#DejaVuSans-48\"/>\n      </g>\n     </g>\n    </g>\n    <g id=\"ytick_3\">\n     <g id=\"line2d_8\">\n      <g>\n       <use style=\"stroke:#000000;stroke-width:0.8;\" x=\"52.375\" xlink:href=\"#mcb3f8b8495\" y=\"171.768412\"/>\n      </g>\n     </g>\n     <g id=\"text_8\">\n      <!-- 80000 -->\n      <defs>\n       <path d=\"M 31.78125 34.625 \nQ 24.75 34.625 20.71875 30.859375 \nQ 16.703125 27.09375 16.703125 20.515625 \nQ 16.703125 13.921875 20.71875 10.15625 \nQ 24.75 6.390625 31.78125 6.390625 \nQ 38.8125 6.390625 42.859375 10.171875 \nQ 46.921875 13.96875 46.921875 20.515625 \nQ 46.921875 27.09375 42.890625 30.859375 \nQ 38.875 34.625 31.78125 34.625 \nz\nM 21.921875 38.8125 \nQ 15.578125 40.375 12.03125 44.71875 \nQ 8.5 49.078125 8.5 55.328125 \nQ 8.5 64.0625 14.71875 69.140625 \nQ 20.953125 74.21875 31.78125 74.21875 \nQ 42.671875 74.21875 48.875 69.140625 \nQ 55.078125 64.0625 55.078125 55.328125 \nQ 55.078125 49.078125 51.53125 44.71875 \nQ 48 40.375 41.703125 38.8125 \nQ 48.828125 37.15625 52.796875 32.3125 \nQ 56.78125 27.484375 56.78125 20.515625 \nQ 56.78125 9.90625 50.3125 4.234375 \nQ 43.84375 -1.421875 31.78125 -1.421875 \nQ 19.734375 -1.421875 13.25 4.234375 \nQ 6.78125 9.90625 6.78125 20.515625 \nQ 6.78125 27.484375 10.78125 32.3125 \nQ 14.796875 37.15625 21.921875 38.8125 \nz\nM 18.3125 54.390625 \nQ 18.3125 48.734375 21.84375 45.5625 \nQ 25.390625 42.390625 31.78125 42.390625 \nQ 38.140625 42.390625 41.71875 45.5625 \nQ 45.3125 48.734375 45.3125 54.390625 \nQ 45.3125 60.0625 41.71875 63.234375 \nQ 38.140625 66.40625 31.78125 66.40625 \nQ 25.390625 66.40625 21.84375 63.234375 \nQ 18.3125 60.0625 18.3125 54.390625 \nz\n\" id=\"DejaVuSans-56\"/>\n      </defs>\n      <g transform=\"translate(13.5625 175.567631)scale(0.1 -0.1)\">\n       <use xlink:href=\"#DejaVuSans-56\"/>\n       <use x=\"63.623047\" xlink:href=\"#DejaVuSans-48\"/>\n       <use x=\"127.246094\" xlink:href=\"#DejaVuSans-48\"/>\n       <use x=\"190.869141\" xlink:href=\"#DejaVuSans-48\"/>\n       <use x=\"254.492188\" xlink:href=\"#DejaVuSans-48\"/>\n      </g>\n     </g>\n    </g>\n    <g id=\"ytick_4\">\n     <g id=\"line2d_9\">\n      <g>\n       <use style=\"stroke:#000000;stroke-width:0.8;\" x=\"52.375\" xlink:href=\"#mcb3f8b8495\" y=\"144.973546\"/>\n      </g>\n     </g>\n     <g id=\"text_9\">\n      <!-- 100000 -->\n      <g transform=\"translate(7.2 148.772765)scale(0.1 -0.1)\">\n       <use xlink:href=\"#DejaVuSans-49\"/>\n       <use x=\"63.623047\" xlink:href=\"#DejaVuSans-48\"/>\n       <use x=\"127.246094\" xlink:href=\"#DejaVuSans-48\"/>\n       <use x=\"190.869141\" xlink:href=\"#DejaVuSans-48\"/>\n       <use x=\"254.492188\" xlink:href=\"#DejaVuSans-48\"/>\n       <use x=\"318.115234\" xlink:href=\"#DejaVuSans-48\"/>\n      </g>\n     </g>\n    </g>\n    <g id=\"ytick_5\">\n     <g id=\"line2d_10\">\n      <g>\n       <use style=\"stroke:#000000;stroke-width:0.8;\" x=\"52.375\" xlink:href=\"#mcb3f8b8495\" y=\"118.178681\"/>\n      </g>\n     </g>\n     <g id=\"text_10\">\n      <!-- 120000 -->\n      <g transform=\"translate(7.2 121.9779)scale(0.1 -0.1)\">\n       <use xlink:href=\"#DejaVuSans-49\"/>\n       <use x=\"63.623047\" xlink:href=\"#DejaVuSans-50\"/>\n       <use x=\"127.246094\" xlink:href=\"#DejaVuSans-48\"/>\n       <use x=\"190.869141\" xlink:href=\"#DejaVuSans-48\"/>\n       <use x=\"254.492188\" xlink:href=\"#DejaVuSans-48\"/>\n       <use x=\"318.115234\" xlink:href=\"#DejaVuSans-48\"/>\n      </g>\n     </g>\n    </g>\n    <g id=\"ytick_6\">\n     <g id=\"line2d_11\">\n      <g>\n       <use style=\"stroke:#000000;stroke-width:0.8;\" x=\"52.375\" xlink:href=\"#mcb3f8b8495\" y=\"91.383815\"/>\n      </g>\n     </g>\n     <g id=\"text_11\">\n      <!-- 140000 -->\n      <g transform=\"translate(7.2 95.183034)scale(0.1 -0.1)\">\n       <use xlink:href=\"#DejaVuSans-49\"/>\n       <use x=\"63.623047\" xlink:href=\"#DejaVuSans-52\"/>\n       <use x=\"127.246094\" xlink:href=\"#DejaVuSans-48\"/>\n       <use x=\"190.869141\" xlink:href=\"#DejaVuSans-48\"/>\n       <use x=\"254.492188\" xlink:href=\"#DejaVuSans-48\"/>\n       <use x=\"318.115234\" xlink:href=\"#DejaVuSans-48\"/>\n      </g>\n     </g>\n    </g>\n    <g id=\"ytick_7\">\n     <g id=\"line2d_12\">\n      <g>\n       <use style=\"stroke:#000000;stroke-width:0.8;\" x=\"52.375\" xlink:href=\"#mcb3f8b8495\" y=\"64.58895\"/>\n      </g>\n     </g>\n     <g id=\"text_12\">\n      <!-- 160000 -->\n      <g transform=\"translate(7.2 68.388169)scale(0.1 -0.1)\">\n       <use xlink:href=\"#DejaVuSans-49\"/>\n       <use x=\"63.623047\" xlink:href=\"#DejaVuSans-54\"/>\n       <use x=\"127.246094\" xlink:href=\"#DejaVuSans-48\"/>\n       <use x=\"190.869141\" xlink:href=\"#DejaVuSans-48\"/>\n       <use x=\"254.492188\" xlink:href=\"#DejaVuSans-48\"/>\n       <use x=\"318.115234\" xlink:href=\"#DejaVuSans-48\"/>\n      </g>\n     </g>\n    </g>\n    <g id=\"ytick_8\">\n     <g id=\"line2d_13\">\n      <g>\n       <use style=\"stroke:#000000;stroke-width:0.8;\" x=\"52.375\" xlink:href=\"#mcb3f8b8495\" y=\"37.794084\"/>\n      </g>\n     </g>\n     <g id=\"text_13\">\n      <!-- 180000 -->\n      <g transform=\"translate(7.2 41.593303)scale(0.1 -0.1)\">\n       <use xlink:href=\"#DejaVuSans-49\"/>\n       <use x=\"63.623047\" xlink:href=\"#DejaVuSans-56\"/>\n       <use x=\"127.246094\" xlink:href=\"#DejaVuSans-48\"/>\n       <use x=\"190.869141\" xlink:href=\"#DejaVuSans-48\"/>\n       <use x=\"254.492188\" xlink:href=\"#DejaVuSans-48\"/>\n       <use x=\"318.115234\" xlink:href=\"#DejaVuSans-48\"/>\n      </g>\n     </g>\n    </g>\n    <g id=\"ytick_9\">\n     <g id=\"line2d_14\">\n      <g>\n       <use style=\"stroke:#000000;stroke-width:0.8;\" x=\"52.375\" xlink:href=\"#mcb3f8b8495\" y=\"10.999219\"/>\n      </g>\n     </g>\n     <g id=\"text_14\">\n      <!-- 200000 -->\n      <g transform=\"translate(7.2 14.798437)scale(0.1 -0.1)\">\n       <use xlink:href=\"#DejaVuSans-50\"/>\n       <use x=\"63.623047\" xlink:href=\"#DejaVuSans-48\"/>\n       <use x=\"127.246094\" xlink:href=\"#DejaVuSans-48\"/>\n       <use x=\"190.869141\" xlink:href=\"#DejaVuSans-48\"/>\n       <use x=\"254.492188\" xlink:href=\"#DejaVuSans-48\"/>\n       <use x=\"318.115234\" xlink:href=\"#DejaVuSans-48\"/>\n      </g>\n     </g>\n    </g>\n   </g>\n   <g id=\"patch_3\">\n    <path d=\"M 52.375 228.041534 \nL 52.375 10.601534 \n\" style=\"fill:none;stroke:#000000;stroke-linecap:square;stroke-linejoin:miter;stroke-width:0.8;\"/>\n   </g>\n   <g id=\"patch_4\">\n    <path d=\"M 387.175 228.041534 \nL 387.175 10.601534 \n\" style=\"fill:none;stroke:#000000;stroke-linecap:square;stroke-linejoin:miter;stroke-width:0.8;\"/>\n   </g>\n   <g id=\"patch_5\">\n    <path d=\"M 52.375 228.041534 \nL 387.175 228.041534 \n\" style=\"fill:none;stroke:#000000;stroke-linecap:square;stroke-linejoin:miter;stroke-width:0.8;\"/>\n   </g>\n   <g id=\"patch_6\">\n    <path d=\"M 52.375 10.601534 \nL 387.175 10.601534 \n\" style=\"fill:none;stroke:#000000;stroke-linecap:square;stroke-linejoin:miter;stroke-width:0.8;\"/>\n   </g>\n  </g>\n </g>\n <defs>\n  <clipPath id=\"p3ad2823c17\">\n   <rect height=\"217.44\" width=\"334.8\" x=\"52.375\" y=\"10.601534\"/>\n  </clipPath>\n </defs>\n</svg>\n",
      "image/png": "[encoded data removed]"
     },
     "metadata": {
      "needs_background": "light"
     }
    }
   ],
   "source": [
    "plt.scatter(x[:,3],lr.predict(x),color='red',label='R&D')\n",
    "plt.scatter(x[:,4],lr.predict(x),color='blue',label='Administration')\n",
    "plt.scatter(x[:,5],lr.predict(x),color='green',label='Marketing')"
   ]
  },
  {
   "cell_type": "code",
   "execution_count": null,
   "metadata": {},
   "outputs": [],
   "source": []
  }
 ],
 "metadata": {
  "language_info": {
   "codemirror_mode": {
    "name": "ipython",
    "version": 3
   },
   "file_extension": ".py",
   "mimetype": "text/x-python",
   "name": "python",
   "nbconvert_exporter": "python",
   "pygments_lexer": "ipython3",
   "version": "3.7.5-final"
  },
  "orig_nbformat": 2,
  "kernelspec": {
   "name": "python_defaultSpec_1597684974011",
   "display_name": "Python 3.7.5 64-bit"
  }
 },
 "nbformat": 4,
 "nbformat_minor": 2
}